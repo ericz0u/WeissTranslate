{
  "nbformat": 4,
  "nbformat_minor": 0,
  "metadata": {
    "colab": {
      "provenance": []
    },
    "kernelspec": {
      "name": "python3",
      "display_name": "Python 3"
    },
    "language_info": {
      "name": "python"
    }
  },
  "cells": [
    {
      "cell_type": "code",
      "source": [
        "import requests, os, json, time, csv\n",
        "from bs4 import BeautifulSoup"
      ],
      "metadata": {
        "id": "5VS0h-drQ0ZW"
      },
      "execution_count": 44,
      "outputs": []
    },
    {
      "cell_type": "code",
      "source": [
        "def scrapeCard(url):\n",
        "  response = requests.get(url)\n",
        "  print(response.content)\n",
        "  response.encoding = 'utf-8'\n",
        "  soup = BeautifulSoup(response.content, 'html.parser')\n",
        "  textelements = soup.find_all('td', class_='cards3')\n",
        "  japanese = \"\"\n",
        "  english = \"\"\n",
        "  if len(textelements) >= 3:\n",
        "      japanese = textelements[0].get_text()\n",
        "      english = textelements[2].get_text()\n",
        "\n",
        "  return {\"ja\": japanese, \"en\": english}"
      ],
      "metadata": {
        "id": "GytjHHFD_ubR"
      },
      "execution_count": 29,
      "outputs": []
    },
    {
      "cell_type": "code",
      "source": [
        "def eatSet(start, size, setcode, delay=1, filename='card_data.json'):\n",
        "    card_data = {}\n",
        "    if os.path.exists(filename):\n",
        "        with open(filename, 'r', encoding='utf-8') as json_file:\n",
        "            card_data = json.load(json_file)\n",
        "\n",
        "    for i in range(start, size):\n",
        "        card_key = f'{setcode}{str(i).zfill(3)}'\n",
        "        if card_key in card_data:\n",
        "            continue\n",
        "        url = f'https://www.heartofthecards.com/code/cardlist.html?card=WS_{setcode}{str(i).zfill(3)}'\n",
        "        card_info = scrapeCard(url)\n",
        "        card_data[card_key] = card_info\n",
        "\n",
        "        # Save to JSON file incrementally and time.sleep as ratelimiting countermeasure\n",
        "        with open(filename, 'w', encoding='utf-8') as json_file:\n",
        "            json.dump(card_data, json_file, indent=4, ensure_ascii=False)\n",
        "        time.sleep(delay)"
      ],
      "metadata": {
        "id": "TaJtO-04Q17E"
      },
      "execution_count": 30,
      "outputs": []
    },
    {
      "cell_type": "code",
      "source": [
        "delay = 4\n",
        "with open('sets.csv', 'r') as csv_file:\n",
        "    csv_reader = csv.reader(csv_file)\n",
        "    next(csv_reader)\n",
        "    for row in csv_reader:\n",
        "        #run through every set, replace / with _ just so it can save as a file\n",
        "        eatSet(1, int(row[1])+1, row[0], delay,(row[0]+\".json\").replace('/','_'))"
      ],
      "metadata": {
        "colab": {
          "base_uri": "https://localhost:8080/",
          "height": 557
        },
        "id": "wcJ8ZTvZSkmg",
        "outputId": "5de416e2-77c0-410c-f7fc-0b425b60a9e3"
      },
      "execution_count": 35,
      "outputs": [
        {
          "output_type": "stream",
          "name": "stdout",
          "text": [
            "b'<html>\\n<head><title>Heart of the Cards - Card Translations</title></head>\\n<body bgcolor=000000><font color=\"FFFFFF\"><center><br><br><br><br>\\nWe think someone is hitting the site a little too hard from your area. Chill out, come back in over one minute, and you can keep looking.\\n</center>\\n</font>\\n</body>\\n</html>\\n<html>\\n<head><title>Heart of the Cards - Card Translations</title></head>\\n<body>\\n\\n</body>\\n</html>\\n'\n",
            "b'<html>\\n<head><title>Heart of the Cards - Card Translations</title></head>\\n<body bgcolor=000000><font color=\"FFFFFF\"><center><br><br><br><br>\\nWe think someone is hitting the site a little too hard from your area. Chill out, come back in over one minute, and you can keep looking.\\n</center>\\n</font>\\n</body>\\n</html>\\n<html>\\n<head><title>Heart of the Cards - Card Translations</title></head>\\n<body>\\n\\n</body>\\n</html>\\n'\n",
            "b'<html>\\n<head><title>Heart of the Cards - Card Translations</title></head>\\n<body bgcolor=000000><font color=\"FFFFFF\"><center><br><br><br><br>\\nWe think someone is hitting the site a little too hard from your area. Chill out, come back in over one minute, and you can keep looking.\\n</center>\\n</font>\\n</body>\\n</html>\\n<html>\\n<head><title>Heart of the Cards - Card Translations</title></head>\\n<body>\\n\\n</body>\\n</html>\\n'\n",
            "b'<html>\\n<head><title>Heart of the Cards - Card Translations</title></head>\\n<body bgcolor=000000><font color=\"FFFFFF\"><center><br><br><br><br>\\nWe think someone is hitting the site a little too hard from your area. Chill out, come back in over one minute, and you can keep looking.\\n</center>\\n</font>\\n</body>\\n</html>\\n<html>\\n<head><title>Heart of the Cards - Card Translations</title></head>\\n<body>\\n\\n</body>\\n</html>\\n'\n",
            "b'<html>\\n<head><title>Heart of the Cards - Card Translations</title></head>\\n<body bgcolor=000000><font color=\"FFFFFF\"><center><br><br><br><br>\\nWe think someone is hitting the site a little too hard from your area. Chill out, come back in over one minute, and you can keep looking.\\n</center>\\n</font>\\n</body>\\n</html>\\n<html>\\n<head><title>Heart of the Cards - Card Translations</title></head>\\n<body>\\n\\n</body>\\n</html>\\n'\n",
            "b'<html>\\n<head><title>Heart of the Cards - Card Translations</title></head>\\n<body bgcolor=000000><font color=\"FFFFFF\"><center><br><br><br><br>\\nWe think someone is hitting the site a little too hard from your area. Chill out, come back in over one minute, and you can keep looking.\\n</center>\\n</font>\\n</body>\\n</html>\\n<html>\\n<head><title>Heart of the Cards - Card Translations</title></head>\\n<body>\\n\\n</body>\\n</html>\\n'\n",
            "b'<html>\\n<head><title>Heart of the Cards - Card Translations</title></head>\\n<body bgcolor=000000><font color=\"FFFFFF\"><center><br><br><br><br>\\nOpen pages a little slower, please, so everyone can enjoy the site quickly. Come on back in about a minute.\\n</center>\\n</font>\\n</body>\\n</html>\\n<html>\\n<head><title>Heart of the Cards - Card Translations</title></head>\\n<body>\\n\\n</body>\\n</html>\\n'\n",
            "b'<html>\\n<head><title>Heart of the Cards - Card Translations</title></head>\\n<body bgcolor=000000><font color=\"FFFFFF\"><center><br><br><br><br>\\nOpen pages a little slower, please, so everyone can enjoy the site quickly. Come on back in about a minute.\\n</center>\\n</font>\\n</body>\\n</html>\\n<html>\\n<head><title>Heart of the Cards - Card Translations</title></head>\\n<body>\\n\\n</body>\\n</html>\\n'\n",
            "b'<html>\\n<head><title>Heart of the Cards - Card Translations</title></head>\\n<body bgcolor=000000><font color=\"FFFFFF\"><center><br><br><br><br>\\nOpen pages a little slower, please, so everyone can enjoy the site quickly. Come on back in about a minute.\\n</center>\\n</font>\\n</body>\\n</html>\\n<html>\\n<head><title>Heart of the Cards - Card Translations</title></head>\\n<body>\\n\\n</body>\\n</html>\\n'\n",
            "b'<html>\\n<head><title>Heart of the Cards - Card Translations</title></head>\\n<body bgcolor=000000><font color=\"FFFFFF\"><center><br><br><br><br>\\nOpen pages a little slower, please, so everyone can enjoy the site quickly. Come on back in about a minute.\\n</center>\\n</font>\\n</body>\\n</html>\\n<html>\\n<head><title>Heart of the Cards - Card Translations</title></head>\\n<body>\\n\\n</body>\\n</html>\\n'\n",
            "b'<html>\\n<head><title>Heart of the Cards - Card Translations</title></head>\\n<body bgcolor=000000><font color=\"FFFFFF\"><center><br><br><br><br>\\nOpen pages a little slower, please, so everyone can enjoy the site quickly. Come on back in about a minute.\\n</center>\\n</font>\\n</body>\\n</html>\\n<html>\\n<head><title>Heart of the Cards - Card Translations</title></head>\\n<body>\\n\\n</body>\\n</html>\\n'\n",
            "b'<html>\\n<head><title>Heart of the Cards - Card Translations</title></head>\\n<body bgcolor=000000><font color=\"FFFFFF\"><center><br><br><br><br>\\nOpen pages a little slower, please, so everyone can enjoy the site quickly. Come on back in about a minute.\\n</center>\\n</font>\\n</body>\\n</html>\\n<html>\\n<head><title>Heart of the Cards - Card Translations</title></head>\\n<body>\\n\\n</body>\\n</html>\\n'\n",
            "b'<html>\\n<head><title>Heart of the Cards - Card Translations</title></head>\\n<body bgcolor=000000><font color=\"FFFFFF\"><center><br><br><br><br>\\nOpen pages a little slower, please, so everyone can enjoy the site quickly. Come on back in about a minute.\\n</center>\\n</font>\\n</body>\\n</html>\\n<html>\\n<head><title>Heart of the Cards - Card Translations</title></head>\\n<body>\\n\\n</body>\\n</html>\\n'\n",
            "b'<html>\\n<head><title>Heart of the Cards - Card Translations</title></head>\\n<body bgcolor=000000><font color=\"FFFFFF\"><center><br><br><br><br>\\nOpen pages a little slower, please, so everyone can enjoy the site quickly. Come on back in about a minute.\\n</center>\\n</font>\\n</body>\\n</html>\\n<html>\\n<head><title>Heart of the Cards - Card Translations</title></head>\\n<body>\\n\\n</body>\\n</html>\\n'\n",
            "b'<html>\\n<head><title>Heart of the Cards - Card Translations</title></head>\\n<body bgcolor=000000><font color=\"FFFFFF\"><center><br><br><br><br>\\nOpen pages a little slower, please, so everyone can enjoy the site quickly. Come on back in about a minute.\\n</center>\\n</font>\\n</body>\\n</html>\\n<html>\\n<head><title>Heart of the Cards - Card Translations</title></head>\\n<body>\\n\\n</body>\\n</html>\\n'\n"
          ]
        },
        {
          "output_type": "error",
          "ename": "KeyboardInterrupt",
          "evalue": "",
          "traceback": [
            "\u001b[0;31m---------------------------------------------------------------------------\u001b[0m",
            "\u001b[0;31mKeyboardInterrupt\u001b[0m                         Traceback (most recent call last)",
            "\u001b[0;32m<ipython-input-35-683deae5fd78>\u001b[0m in \u001b[0;36m<cell line: 2>\u001b[0;34m()\u001b[0m\n\u001b[1;32m      5\u001b[0m     \u001b[0;32mfor\u001b[0m \u001b[0mrow\u001b[0m \u001b[0;32min\u001b[0m \u001b[0mcsv_reader\u001b[0m\u001b[0;34m:\u001b[0m\u001b[0;34m\u001b[0m\u001b[0;34m\u001b[0m\u001b[0m\n\u001b[1;32m      6\u001b[0m         \u001b[0;31m#run through every set, replace / with _ just so it can save as a file\u001b[0m\u001b[0;34m\u001b[0m\u001b[0;34m\u001b[0m\u001b[0m\n\u001b[0;32m----> 7\u001b[0;31m         \u001b[0meatSet\u001b[0m\u001b[0;34m(\u001b[0m\u001b[0;36m1\u001b[0m\u001b[0;34m,\u001b[0m \u001b[0mint\u001b[0m\u001b[0;34m(\u001b[0m\u001b[0mrow\u001b[0m\u001b[0;34m[\u001b[0m\u001b[0;36m1\u001b[0m\u001b[0;34m]\u001b[0m\u001b[0;34m)\u001b[0m\u001b[0;34m+\u001b[0m\u001b[0;36m1\u001b[0m\u001b[0;34m,\u001b[0m \u001b[0mrow\u001b[0m\u001b[0;34m[\u001b[0m\u001b[0;36m0\u001b[0m\u001b[0;34m]\u001b[0m\u001b[0;34m,\u001b[0m \u001b[0mdelay\u001b[0m\u001b[0;34m,\u001b[0m\u001b[0;34m(\u001b[0m\u001b[0mrow\u001b[0m\u001b[0;34m[\u001b[0m\u001b[0;36m0\u001b[0m\u001b[0;34m]\u001b[0m\u001b[0;34m+\u001b[0m\u001b[0;34m\".json\"\u001b[0m\u001b[0;34m)\u001b[0m\u001b[0;34m.\u001b[0m\u001b[0mreplace\u001b[0m\u001b[0;34m(\u001b[0m\u001b[0;34m'/'\u001b[0m\u001b[0;34m,\u001b[0m\u001b[0;34m'_'\u001b[0m\u001b[0;34m)\u001b[0m\u001b[0;34m)\u001b[0m\u001b[0;34m\u001b[0m\u001b[0;34m\u001b[0m\u001b[0m\n\u001b[0m",
            "\u001b[0;32m<ipython-input-30-e96739de4fd8>\u001b[0m in \u001b[0;36meatSet\u001b[0;34m(start, size, setcode, delay, filename)\u001b[0m\n\u001b[1;32m     16\u001b[0m         \u001b[0;32mwith\u001b[0m \u001b[0mopen\u001b[0m\u001b[0;34m(\u001b[0m\u001b[0mfilename\u001b[0m\u001b[0;34m,\u001b[0m \u001b[0;34m'w'\u001b[0m\u001b[0;34m,\u001b[0m \u001b[0mencoding\u001b[0m\u001b[0;34m=\u001b[0m\u001b[0;34m'utf-8'\u001b[0m\u001b[0;34m)\u001b[0m \u001b[0;32mas\u001b[0m \u001b[0mjson_file\u001b[0m\u001b[0;34m:\u001b[0m\u001b[0;34m\u001b[0m\u001b[0;34m\u001b[0m\u001b[0m\n\u001b[1;32m     17\u001b[0m             \u001b[0mjson\u001b[0m\u001b[0;34m.\u001b[0m\u001b[0mdump\u001b[0m\u001b[0;34m(\u001b[0m\u001b[0mcard_data\u001b[0m\u001b[0;34m,\u001b[0m \u001b[0mjson_file\u001b[0m\u001b[0;34m,\u001b[0m \u001b[0mindent\u001b[0m\u001b[0;34m=\u001b[0m\u001b[0;36m4\u001b[0m\u001b[0;34m,\u001b[0m \u001b[0mensure_ascii\u001b[0m\u001b[0;34m=\u001b[0m\u001b[0;32mFalse\u001b[0m\u001b[0;34m)\u001b[0m\u001b[0;34m\u001b[0m\u001b[0;34m\u001b[0m\u001b[0m\n\u001b[0;32m---> 18\u001b[0;31m         \u001b[0mtime\u001b[0m\u001b[0;34m.\u001b[0m\u001b[0msleep\u001b[0m\u001b[0;34m(\u001b[0m\u001b[0mdelay\u001b[0m\u001b[0;34m)\u001b[0m\u001b[0;34m\u001b[0m\u001b[0;34m\u001b[0m\u001b[0m\n\u001b[0m",
            "\u001b[0;31mKeyboardInterrupt\u001b[0m: "
          ]
        }
      ]
    },
    {
      "cell_type": "code",
      "source": [
        "\n",
        "def combine_json_files(file_list, output_file):\n",
        "    combined_data = []\n",
        "\n",
        "    for file_name in file_list:\n",
        "        with open(file_name, 'r',encoding = 'utf-8') as file:\n",
        "            data = json.load(file)\n",
        "            if isinstance(data, list):\n",
        "                combined_data.extend(data)\n",
        "            else:\n",
        "                combined_data.append(data)\n",
        "\n",
        "    with open(output_file, 'w+',encoding = 'utf-8') as output:\n",
        "        json.dump(combined_data, output, indent=4)\n",
        "\n",
        "\n",
        "json_files = [\n",
        "    'AW_S18.json',\n",
        "    'AW_S43.json',\n",
        "]\n",
        "output_file = 'Sets.json'\n",
        "\n",
        "combine_json_files(json_files, output_file)\n",
        "print(f\"Combined JSON saved to {output_file}\")\n"
      ],
      "metadata": {
        "colab": {
          "base_uri": "https://localhost:8080/"
        },
        "id": "nY-pwJtxcuLt",
        "outputId": "51943aad-cbe9-4b61-d14b-bfff4a767746"
      },
      "execution_count": 43,
      "outputs": [
        {
          "metadata": {
            "tags": null
          },
          "name": "stdout",
          "output_type": "stream",
          "text": [
            "Combined JSON saved to Sets.json\n"
          ]
        }
      ]
    }
  ]
}