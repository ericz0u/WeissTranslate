{
  "nbformat": 4,
  "nbformat_minor": 0,
  "metadata": {
    "colab": {
      "provenance": []
    },
    "kernelspec": {
      "name": "python3",
      "display_name": "Python 3"
    },
    "language_info": {
      "name": "python"
    }
  },
  "cells": [
    {
      "cell_type": "code",
      "source": [
        "import json,os,csv,glob\n",
        "\n",
        "def load_json(filename):\n",
        "    with open(filename, 'r', encoding='utf-8') as file:\n",
        "        return json.load(file)\n",
        "\n",
        "def combine_json_files(directory):\n",
        "    combined_json = {}\n",
        "    json_files = glob.glob(os.path.join(directory, '*.json'))\n",
        "\n",
        "    for json_file in json_files:\n",
        "        json_data = load_json(json_file)\n",
        "        combined_json.update(json_data)\n",
        "\n",
        "    return combined_json\n",
        "\n",
        "directory_path = 'Sets'\n",
        "\n",
        "combined_json = combine_json_files(directory_path)\n",
        "\n",
        "output_file = 'combined.json'\n",
        "with open(output_file, 'w', encoding='utf-8') as file:\n",
        "    json.dump(combined_json, file, ensure_ascii=False, indent=4)\n",
        "\n",
        "print(\"shii is all globbed up\")\n"
      ],
      "metadata": {
        "colab": {
          "base_uri": "https://localhost:8080/"
        },
        "id": "TtVzYKj72n2a",
        "outputId": "188b6021-00a1-448e-cf92-2d7157be9b61"
      },
      "execution_count": 8,
      "outputs": [
        {
          "output_type": "stream",
          "name": "stdout",
          "text": [
            "shii is all globbed up\n"
          ]
        }
      ]
    },
    {
      "cell_type": "code",
      "source": [
        "with open('combined.json', 'r', encoding='utf-8') as json_file:\n",
        "    data = json.load(json_file)\n",
        "\n",
        "# Create a CSV file\n",
        "with open('dataset.csv', 'w', newline='', encoding='utf-8') as csv_file:\n",
        "    writer = csv.writer(csv_file)\n",
        "    writer.writerow(['en', 'ja'])  # Write the header\n",
        "\n",
        "    # Write rows\n",
        "    for key, value in data.items():\n",
        "        en_text = value.get('en', '')\n",
        "        ja_text = value.get('ja', '')\n",
        "        writer.writerow([en_text, ja_text])\n"
      ],
      "metadata": {
        "id": "svtQEBfD1PhV"
      },
      "execution_count": 10,
      "outputs": []
    }
  ]
}