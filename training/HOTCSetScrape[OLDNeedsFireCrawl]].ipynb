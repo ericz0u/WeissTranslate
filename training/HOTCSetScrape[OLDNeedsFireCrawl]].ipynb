{
  "nbformat": 4,
  "nbformat_minor": 0,
  "metadata": {
    "colab": {
      "provenance": []
    },
    "kernelspec": {
      "name": "python3",
      "display_name": "Python 3"
    },
    "language_info": {
      "name": "python"
    }
  },
  "cells": [
    {
      "cell_type": "code",
      "source": [
        "!pip install firecrawl-py"
      ],
      "metadata": {
        "colab": {
          "base_uri": "https://localhost:8080/"
        },
        "id": "zUZdl8pjNOca",
        "outputId": "6f80de2c-83df-484f-9cd8-16737820b6d3"
      },
      "execution_count": null,
      "outputs": [
        {
          "output_type": "stream",
          "name": "stdout",
          "text": [
            "Collecting firecrawl-py\n",
            "  Downloading firecrawl_py-0.0.14-py3-none-any.whl (8.4 kB)\n",
            "Requirement already satisfied: requests in /usr/local/lib/python3.10/dist-packages (from firecrawl-py) (2.31.0)\n",
            "Requirement already satisfied: charset-normalizer<4,>=2 in /usr/local/lib/python3.10/dist-packages (from requests->firecrawl-py) (3.3.2)\n",
            "Requirement already satisfied: idna<4,>=2.5 in /usr/local/lib/python3.10/dist-packages (from requests->firecrawl-py) (3.7)\n",
            "Requirement already satisfied: urllib3<3,>=1.21.1 in /usr/local/lib/python3.10/dist-packages (from requests->firecrawl-py) (2.0.7)\n",
            "Requirement already satisfied: certifi>=2017.4.17 in /usr/local/lib/python3.10/dist-packages (from requests->firecrawl-py) (2024.6.2)\n",
            "Installing collected packages: firecrawl-py\n",
            "Successfully installed firecrawl-py-0.0.14\n"
          ]
        }
      ]
    },
    {
      "cell_type": "code",
      "execution_count": 58,
      "metadata": {
        "id": "n_SINsyYNJ2q"
      },
      "outputs": [],
      "source": [
        "from firecrawl import FirecrawlApp\n",
        "import re,json,time,os\n",
        "#Put in your own key! not giving you mine\n",
        "key = ''\n",
        "app = FirecrawlApp(api_key=key)"
      ]
    },
    {
      "cell_type": "code",
      "source": [
        "def scrapeCard(url):\n",
        "  response = app.scrape_url(url=url)\n",
        "  lines = response['markdown'].split('\\n')\n",
        "  japanese_line = lines[3]\n",
        "  japanese_pattern = r'<br>([^<]+)'\n",
        "  japanese_matches = re.findall(japanese_pattern, japanese_line)\n",
        "  japanese_text = \" \".join(japanese_matches).strip()\n",
        "  english_line = lines[4]\n",
        "  english_pattern = r'\\| ([^\\|]+) \\|'\n",
        "  english_matches = re.findall(english_pattern, english_line)\n",
        "  english_text = \" \".join(english_matches).strip()\n",
        "  return {\"ja\": japanese_text, \"en\": english_text}"
      ],
      "metadata": {
        "id": "4-HVNCiMROs-"
      },
      "execution_count": 59,
      "outputs": []
    },
    {
      "cell_type": "code",
      "source": [
        "def eatSet(start, size, setcode, delay=1, filename='card_data.json'):\n",
        "    card_data = {}\n",
        "    if os.path.exists(filename):\n",
        "        with open(filename, 'r', encoding='utf-8') as json_file:\n",
        "            card_data = json.load(json_file)\n",
        "\n",
        "    for i in range(start, size):\n",
        "        card_key = f'{setcode}{str(i).zfill(3)}'\n",
        "        if card_key in card_data:\n",
        "            continue\n",
        "        url = f'https://www.heartofthecards.com/code/cardlist.html?card=WS_{setcode}{str(i).zfill(3)}&short=1'\n",
        "        card_info = scrapeCard(url)\n",
        "        card_data[card_key] = card_info\n",
        "\n",
        "        # Save to JSON file incrementally and time.sleep as ratelimiting countermeasure\n",
        "        with open(filename, 'w', encoding='utf-8') as json_file:\n",
        "            json.dump(card_data, json_file, indent=4, ensure_ascii=False)\n",
        "        time.sleep(delay)"
      ],
      "metadata": {
        "id": "JMILjwY3Rw2M"
      },
      "execution_count": 64,
      "outputs": []
    },
    {
      "cell_type": "code",
      "source": [
        "#Usage of starting from the beginning of KGL(Kaguya-sama).\n",
        "size = 104\n",
        "setcode = \"KGL/S79\"\n",
        "delay = 10\n",
        "startindex = 1\n",
        "#1 is starting index(if you're doing a set incrementally)\n",
        "eatSet(startindex,size+1, setcode, delay)"
      ],
      "metadata": {
        "id": "XeAaqozXUBQb"
      },
      "execution_count": 68,
      "outputs": []
    }
  ]
}
